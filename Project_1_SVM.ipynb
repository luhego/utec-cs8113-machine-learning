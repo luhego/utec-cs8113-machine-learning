{
  "nbformat": 4,
  "nbformat_minor": 0,
  "metadata": {
    "colab": {
      "name": "Project_1-SVM.ipynb",
      "provenance": [],
      "collapsed_sections": []
    },
    "kernelspec": {
      "name": "python3",
      "display_name": "Python 3"
    },
    "language_info": {
      "name": "python"
    }
  },
  "cells": [
    {
      "cell_type": "code",
      "metadata": {
        "id": "kFrw-qJEYElG"
      },
      "source": [
        "# Librerias\n",
        "import numpy as np\n",
        "from numpy import arange\n",
        "import pandas as pd\n",
        "import matplotlib.pyplot as plt\n",
        "import pywt\n",
        "import cv2\n",
        "import os\n",
        "from sklearn.metrics import confusion_matrix\n",
        "import seaborn as sns\n",
        "from sklearn.model_selection import train_test_split\n",
        "from sklearn.model_selection import cross_val_score\n",
        "from sklearn.svm import SVC\n",
        "from sklearn.svm import LinearSVC\n",
        "from sklearn.model_selection import KFold\n",
        "from sklearn.utils import resample\n",
        "from sklearn.metrics import accuracy_score"
      ],
      "execution_count": 1,
      "outputs": []
    },
    {
      "cell_type": "code",
      "metadata": {
        "id": "Bo1KOl9IYaP-",
        "colab": {
          "base_uri": "https://localhost:8080/"
        },
        "outputId": "cc3636f8-7e0f-4754-cad0-cf7a2986947f"
      },
      "source": [
        "from google.colab import drive\n",
        "drive.mount('/content/gdrive')"
      ],
      "execution_count": 2,
      "outputs": [
        {
          "output_type": "stream",
          "name": "stdout",
          "text": [
            "Drive already mounted at /content/gdrive; to attempt to forcibly remount, call drive.mount(\"/content/gdrive\", force_remount=True).\n"
          ]
        }
      ]
    },
    {
      "cell_type": "code",
      "metadata": {
        "id": "T8bnj9r9aaOG"
      },
      "source": [
        "path_data = '/content/gdrive/MyDrive/UTEC/machine-learning/CK+48/'"
      ],
      "execution_count": 3,
      "outputs": []
    },
    {
      "cell_type": "markdown",
      "metadata": {
        "id": "g7NUfNNvbwpK"
      },
      "source": [
        "# 1) Generar los vectores característica de las imágenes"
      ]
    },
    {
      "cell_type": "code",
      "metadata": {
        "id": "TUJybXeRb0Ow"
      },
      "source": [
        "def Haar(imagen, cortes):\n",
        " for i in range(cortes):\n",
        "   LL, (LH, HL, HH) = pywt.dwt2(imagen, 'haar')\n",
        "   imagen = LL\n",
        " return imagen\n",
        "\n",
        "def vectorizar(matrix):\n",
        "  return matrix.flatten()\n",
        "\n",
        "def preprocesar(imagenes):\n",
        "  imagenes_vectorizadas = []\n",
        "  for imagen in imagenes:\n",
        "    imagenes_vectorizadas.append(vectorizar(Haar(imagen, 1)))\n",
        "  return imagenes_vectorizadas"
      ],
      "execution_count": 4,
      "outputs": []
    },
    {
      "cell_type": "code",
      "metadata": {
        "id": "qzlj0CW2dHmE"
      },
      "source": [
        "ANG_TRAIN_PATH = path_data + \"anger\"\n",
        "CON_TRAIN_PATH = path_data + \"contempt\"\n",
        "DIS_TRAIN_PATH = path_data + \"disgust\"\n",
        "FEA_TRAIN_PATH = path_data + \"fear\"\n",
        "HAP_TRAIN_PATH = path_data + \"happy\"\n",
        "SAD_TRAIN_PATH = path_data + \"sadness\"\n",
        "SUR_TRAIN_PATH = path_data + \"surprise\"\n",
        "\n",
        "def get_imagenes(dir_path):\n",
        "  imagenes = []\n",
        "  for img_path in os.listdir(dir_path):\n",
        "    img_full_path = os.path.join(dir_path, img_path)\n",
        "    img = cv2.imread(img_full_path)\n",
        "    imagenes.append(img)\n",
        "  return imagenes"
      ],
      "execution_count": 5,
      "outputs": []
    },
    {
      "cell_type": "code",
      "metadata": {
        "colab": {
          "base_uri": "https://localhost:8080/"
        },
        "id": "4HngiN9IdKuT",
        "outputId": "68c0d7df-d421-4f6c-d9c6-c00f08907119"
      },
      "source": [
        "%%time\n",
        "train_ang = preprocesar(get_imagenes(ANG_TRAIN_PATH))\n",
        "train_con = preprocesar(get_imagenes(CON_TRAIN_PATH))\n",
        "train_dis = preprocesar(get_imagenes(DIS_TRAIN_PATH))\n",
        "train_fea = preprocesar(get_imagenes(FEA_TRAIN_PATH))\n",
        "train_hap = preprocesar(get_imagenes(HAP_TRAIN_PATH))\n",
        "train_sad = preprocesar(get_imagenes(SAD_TRAIN_PATH))\n",
        "train_sur = preprocesar(get_imagenes(SUR_TRAIN_PATH))"
      ],
      "execution_count": 6,
      "outputs": [
        {
          "output_type": "stream",
          "name": "stdout",
          "text": [
            "CPU times: user 641 ms, sys: 280 ms, total: 922 ms\n",
            "Wall time: 2.65 s\n"
          ]
        }
      ]
    },
    {
      "cell_type": "markdown",
      "metadata": {
        "id": "mT1o11bsh2O0"
      },
      "source": [
        "# Creacion de la matriz x"
      ]
    },
    {
      "cell_type": "code",
      "metadata": {
        "colab": {
          "base_uri": "https://localhost:8080/"
        },
        "id": "pEl-PboAiLa6",
        "outputId": "c46ccc9a-97af-4469-f49c-4b7940e68c46"
      },
      "source": [
        "print(np.shape(train_ang))\n",
        "print(np.shape(train_con))\n",
        "print(np.shape(train_dis))\n",
        "print(np.shape(train_fea))\n",
        "print(np.shape(train_hap))\n",
        "print(np.shape(train_sad))\n",
        "print(np.shape(train_sur))"
      ],
      "execution_count": 7,
      "outputs": [
        {
          "output_type": "stream",
          "name": "stdout",
          "text": [
            "(135, 2304)\n",
            "(54, 2304)\n",
            "(177, 2304)\n",
            "(75, 2304)\n",
            "(207, 2304)\n",
            "(84, 2304)\n",
            "(249, 2304)\n"
          ]
        }
      ]
    },
    {
      "cell_type": "code",
      "metadata": {
        "id": "wW7DBzYQiSZe"
      },
      "source": [
        "m_train = len(train_ang) + len(train_con) \\\n",
        "  + len(train_dis) + len(train_fea) + len(train_hap) \\\n",
        "  + len(train_sad) + len(train_sur) \n",
        "k_train = np.shape(train_ang)[1]"
      ],
      "execution_count": 8,
      "outputs": []
    },
    {
      "cell_type": "code",
      "metadata": {
        "id": "UUtBtaPDiUbc"
      },
      "source": [
        "X = np.concatenate((train_ang, train_con,train_dis,train_fea,train_hap,train_sad,train_sur)).reshape(m_train,k_train)"
      ],
      "execution_count": 9,
      "outputs": []
    },
    {
      "cell_type": "markdown",
      "metadata": {
        "id": "WKK8gEz4irNK"
      },
      "source": [
        "###*Creacion de las etiquetas y*: \n",
        "*   0: anger\n",
        "*   1: contempt\n",
        "*   2: disgust\n",
        "*   3: fear\n",
        "*   4: happy\n",
        "*   5: sadness\n",
        "*   6: surprise"
      ]
    },
    {
      "cell_type": "code",
      "metadata": {
        "colab": {
          "base_uri": "https://localhost:8080/"
        },
        "id": "AUo-M9-ue7Tt",
        "outputId": "b9caedd3-cf5f-4cdf-92a5-c48b1bf08e10"
      },
      "source": [
        "y1_train = np.zeros(len(train_ang))\n",
        "y2_train = np.ones(len(train_con))\n",
        "y3_train = np.full(len(train_dis), 2)\n",
        "y4_train = np.full(len(train_fea), 3)\n",
        "y5_train = np.full(len(train_hap), 4)\n",
        "y6_train = np.full(len(train_sad), 5)\n",
        "y7_train = np.full(len(train_sur), 6)\n",
        "\n",
        "y = np.concatenate((y1_train, y2_train,y3_train,y4_train,y5_train,y6_train,y7_train)).reshape(m_train, 1)\n",
        "y.shape"
      ],
      "execution_count": 10,
      "outputs": [
        {
          "output_type": "execute_result",
          "data": {
            "text/plain": [
              "(981, 1)"
            ]
          },
          "metadata": {},
          "execution_count": 10
        }
      ]
    },
    {
      "cell_type": "code",
      "metadata": {
        "colab": {
          "base_uri": "https://localhost:8080/"
        },
        "id": "dlcMkKirfATz",
        "outputId": "c3c510ef-0cee-48fe-c237-b84a98629a89"
      },
      "source": [
        "print(np.shape(X))\n",
        "X"
      ],
      "execution_count": 11,
      "outputs": [
        {
          "output_type": "stream",
          "name": "stdout",
          "text": [
            "(981, 2304)\n"
          ]
        },
        {
          "output_type": "execute_result",
          "data": {
            "text/plain": [
              "array([[ 27.,  27.,  31., ..., 300., 309., 309.],\n",
              "       [225., 225., 124., ...,   4.,  28.,  28.],\n",
              "       [ 68.,  68.,  32., ..., 190., 282., 282.],\n",
              "       ...,\n",
              "       [ 82.,  82.,  82., ...,  75.,  47.,  47.],\n",
              "       [198., 198.,  96., ...,  66.,  56.,  56.],\n",
              "       [146., 146., 153., ...,  82.,  98.,  98.]])"
            ]
          },
          "metadata": {},
          "execution_count": 11
        }
      ]
    },
    {
      "cell_type": "code",
      "metadata": {
        "colab": {
          "base_uri": "https://localhost:8080/"
        },
        "id": "10G9KmPHfBBp",
        "outputId": "01be2aa7-7d47-4d53-ad7a-b5c5d89840de"
      },
      "source": [
        "print(np.shape(y))\n",
        "np.ravel(y)"
      ],
      "execution_count": 12,
      "outputs": [
        {
          "output_type": "stream",
          "name": "stdout",
          "text": [
            "(981, 1)\n"
          ]
        },
        {
          "output_type": "execute_result",
          "data": {
            "text/plain": [
              "array([0., 0., 0., 0., 0., 0., 0., 0., 0., 0., 0., 0., 0., 0., 0., 0., 0.,\n",
              "       0., 0., 0., 0., 0., 0., 0., 0., 0., 0., 0., 0., 0., 0., 0., 0., 0.,\n",
              "       0., 0., 0., 0., 0., 0., 0., 0., 0., 0., 0., 0., 0., 0., 0., 0., 0.,\n",
              "       0., 0., 0., 0., 0., 0., 0., 0., 0., 0., 0., 0., 0., 0., 0., 0., 0.,\n",
              "       0., 0., 0., 0., 0., 0., 0., 0., 0., 0., 0., 0., 0., 0., 0., 0., 0.,\n",
              "       0., 0., 0., 0., 0., 0., 0., 0., 0., 0., 0., 0., 0., 0., 0., 0., 0.,\n",
              "       0., 0., 0., 0., 0., 0., 0., 0., 0., 0., 0., 0., 0., 0., 0., 0., 0.,\n",
              "       0., 0., 0., 0., 0., 0., 0., 0., 0., 0., 0., 0., 0., 0., 0., 0., 1.,\n",
              "       1., 1., 1., 1., 1., 1., 1., 1., 1., 1., 1., 1., 1., 1., 1., 1., 1.,\n",
              "       1., 1., 1., 1., 1., 1., 1., 1., 1., 1., 1., 1., 1., 1., 1., 1., 1.,\n",
              "       1., 1., 1., 1., 1., 1., 1., 1., 1., 1., 1., 1., 1., 1., 1., 1., 1.,\n",
              "       1., 1., 2., 2., 2., 2., 2., 2., 2., 2., 2., 2., 2., 2., 2., 2., 2.,\n",
              "       2., 2., 2., 2., 2., 2., 2., 2., 2., 2., 2., 2., 2., 2., 2., 2., 2.,\n",
              "       2., 2., 2., 2., 2., 2., 2., 2., 2., 2., 2., 2., 2., 2., 2., 2., 2.,\n",
              "       2., 2., 2., 2., 2., 2., 2., 2., 2., 2., 2., 2., 2., 2., 2., 2., 2.,\n",
              "       2., 2., 2., 2., 2., 2., 2., 2., 2., 2., 2., 2., 2., 2., 2., 2., 2.,\n",
              "       2., 2., 2., 2., 2., 2., 2., 2., 2., 2., 2., 2., 2., 2., 2., 2., 2.,\n",
              "       2., 2., 2., 2., 2., 2., 2., 2., 2., 2., 2., 2., 2., 2., 2., 2., 2.,\n",
              "       2., 2., 2., 2., 2., 2., 2., 2., 2., 2., 2., 2., 2., 2., 2., 2., 2.,\n",
              "       2., 2., 2., 2., 2., 2., 2., 2., 2., 2., 2., 2., 2., 2., 2., 2., 2.,\n",
              "       2., 2., 2., 2., 2., 2., 2., 2., 2., 2., 2., 2., 2., 2., 2., 2., 2.,\n",
              "       2., 2., 2., 2., 2., 2., 2., 2., 2., 3., 3., 3., 3., 3., 3., 3., 3.,\n",
              "       3., 3., 3., 3., 3., 3., 3., 3., 3., 3., 3., 3., 3., 3., 3., 3., 3.,\n",
              "       3., 3., 3., 3., 3., 3., 3., 3., 3., 3., 3., 3., 3., 3., 3., 3., 3.,\n",
              "       3., 3., 3., 3., 3., 3., 3., 3., 3., 3., 3., 3., 3., 3., 3., 3., 3.,\n",
              "       3., 3., 3., 3., 3., 3., 3., 3., 3., 3., 3., 3., 3., 3., 3., 3., 4.,\n",
              "       4., 4., 4., 4., 4., 4., 4., 4., 4., 4., 4., 4., 4., 4., 4., 4., 4.,\n",
              "       4., 4., 4., 4., 4., 4., 4., 4., 4., 4., 4., 4., 4., 4., 4., 4., 4.,\n",
              "       4., 4., 4., 4., 4., 4., 4., 4., 4., 4., 4., 4., 4., 4., 4., 4., 4.,\n",
              "       4., 4., 4., 4., 4., 4., 4., 4., 4., 4., 4., 4., 4., 4., 4., 4., 4.,\n",
              "       4., 4., 4., 4., 4., 4., 4., 4., 4., 4., 4., 4., 4., 4., 4., 4., 4.,\n",
              "       4., 4., 4., 4., 4., 4., 4., 4., 4., 4., 4., 4., 4., 4., 4., 4., 4.,\n",
              "       4., 4., 4., 4., 4., 4., 4., 4., 4., 4., 4., 4., 4., 4., 4., 4., 4.,\n",
              "       4., 4., 4., 4., 4., 4., 4., 4., 4., 4., 4., 4., 4., 4., 4., 4., 4.,\n",
              "       4., 4., 4., 4., 4., 4., 4., 4., 4., 4., 4., 4., 4., 4., 4., 4., 4.,\n",
              "       4., 4., 4., 4., 4., 4., 4., 4., 4., 4., 4., 4., 4., 4., 4., 4., 4.,\n",
              "       4., 4., 4., 4., 4., 4., 4., 4., 4., 4., 4., 4., 4., 4., 4., 4., 4.,\n",
              "       4., 4., 4., 4., 4., 4., 4., 4., 4., 4., 4., 4., 4., 4., 4., 4., 4.,\n",
              "       4., 4., 5., 5., 5., 5., 5., 5., 5., 5., 5., 5., 5., 5., 5., 5., 5.,\n",
              "       5., 5., 5., 5., 5., 5., 5., 5., 5., 5., 5., 5., 5., 5., 5., 5., 5.,\n",
              "       5., 5., 5., 5., 5., 5., 5., 5., 5., 5., 5., 5., 5., 5., 5., 5., 5.,\n",
              "       5., 5., 5., 5., 5., 5., 5., 5., 5., 5., 5., 5., 5., 5., 5., 5., 5.,\n",
              "       5., 5., 5., 5., 5., 5., 5., 5., 5., 5., 5., 5., 5., 5., 5., 5., 5.,\n",
              "       5., 6., 6., 6., 6., 6., 6., 6., 6., 6., 6., 6., 6., 6., 6., 6., 6.,\n",
              "       6., 6., 6., 6., 6., 6., 6., 6., 6., 6., 6., 6., 6., 6., 6., 6., 6.,\n",
              "       6., 6., 6., 6., 6., 6., 6., 6., 6., 6., 6., 6., 6., 6., 6., 6., 6.,\n",
              "       6., 6., 6., 6., 6., 6., 6., 6., 6., 6., 6., 6., 6., 6., 6., 6., 6.,\n",
              "       6., 6., 6., 6., 6., 6., 6., 6., 6., 6., 6., 6., 6., 6., 6., 6., 6.,\n",
              "       6., 6., 6., 6., 6., 6., 6., 6., 6., 6., 6., 6., 6., 6., 6., 6., 6.,\n",
              "       6., 6., 6., 6., 6., 6., 6., 6., 6., 6., 6., 6., 6., 6., 6., 6., 6.,\n",
              "       6., 6., 6., 6., 6., 6., 6., 6., 6., 6., 6., 6., 6., 6., 6., 6., 6.,\n",
              "       6., 6., 6., 6., 6., 6., 6., 6., 6., 6., 6., 6., 6., 6., 6., 6., 6.,\n",
              "       6., 6., 6., 6., 6., 6., 6., 6., 6., 6., 6., 6., 6., 6., 6., 6., 6.,\n",
              "       6., 6., 6., 6., 6., 6., 6., 6., 6., 6., 6., 6., 6., 6., 6., 6., 6.,\n",
              "       6., 6., 6., 6., 6., 6., 6., 6., 6., 6., 6., 6., 6., 6., 6., 6., 6.,\n",
              "       6., 6., 6., 6., 6., 6., 6., 6., 6., 6., 6., 6., 6., 6., 6., 6., 6.,\n",
              "       6., 6., 6., 6., 6., 6., 6., 6., 6., 6., 6., 6., 6., 6., 6., 6., 6.,\n",
              "       6., 6., 6., 6., 6., 6., 6., 6., 6., 6., 6., 6.])"
            ]
          },
          "metadata": {},
          "execution_count": 12
        }
      ]
    },
    {
      "cell_type": "code",
      "metadata": {
        "colab": {
          "base_uri": "https://localhost:8080/"
        },
        "id": "S6ryzRaI2TCm",
        "outputId": "58f61d29-f829-4e7d-f41f-296140926f70"
      },
      "source": [
        "X = pd.DataFrame(X)\n",
        "y = pd.DataFrame(y)\n",
        "print(X.shape)\n",
        "print(y.shape)\n",
        "df_images = pd.concat([X,y], axis=1)\n",
        "print(df_images.shape)"
      ],
      "execution_count": 13,
      "outputs": [
        {
          "output_type": "stream",
          "name": "stdout",
          "text": [
            "(981, 2304)\n",
            "(981, 1)\n",
            "(981, 2305)\n"
          ]
        }
      ]
    },
    {
      "cell_type": "markdown",
      "metadata": {
        "id": "sPgDcwOz4P5Y"
      },
      "source": [
        "## 2) Modelo SVM"
      ]
    },
    {
      "cell_type": "markdown",
      "metadata": {
        "id": "oi7gdxJZ4ttn"
      },
      "source": [
        "###*Generar las particiones*: "
      ]
    },
    {
      "cell_type": "code",
      "metadata": {
        "id": "bHLkkvN04qTd"
      },
      "source": [
        "test_size=0.20\n",
        "semilla=333\n",
        "X_train, X_test, y_train, y_test = train_test_split(X, y, test_size=test_size,random_state=semilla)"
      ],
      "execution_count": 14,
      "outputs": []
    },
    {
      "cell_type": "markdown",
      "metadata": {
        "id": "-rJjG5LI48dh"
      },
      "source": [
        "###*Calculo del error y Bias*: "
      ]
    },
    {
      "cell_type": "code",
      "metadata": {
        "id": "6qMq343145IU"
      },
      "source": [
        "def error_y_bias(y_pred,y_test):\n",
        "  #Bias\n",
        "  bias = np.mean(np.ravel(y_test) - np.ravel(y_pred))\n",
        "  #Error\n",
        "  error = np.mean(np.ravel(y_pred) != np.ravel(y_test))\n",
        "  #Varianza Error\n",
        "  varError = np.std(np.ravel(y_pred) != np.ravel(y_test))\n",
        "  #Varianza Predicción\n",
        "  var = np.mean(np.ravel(y_pred)**2) - np.mean(np.ravel(y_pred))**2\n",
        "\n",
        "  return bias, error, varError, var"
      ],
      "execution_count": 15,
      "outputs": []
    },
    {
      "cell_type": "markdown",
      "metadata": {
        "id": "lHTqxjrI8DBr"
      },
      "source": [
        "###*Modelos SVM con diferentes kernel*: "
      ]
    },
    {
      "cell_type": "code",
      "metadata": {
        "id": "9ik8yGK_Akb8"
      },
      "source": [
        "# def linear_svc(X, y, C):\n",
        "#   classifier = LinearSVC(C=C, max_iter=10000)\n",
        "#   classifier.fit(X, np.ravel(y))\n",
        "#   return classifier"
      ],
      "execution_count": 16,
      "outputs": []
    },
    {
      "cell_type": "code",
      "metadata": {
        "id": "vNgz3FAM7_pq"
      },
      "source": [
        "def svc_linear_kernel(X, y, C):\n",
        "  classifier = SVC(kernel='linear', C=C)\n",
        "  classifier.fit(X, np.ravel(y))\n",
        "  return classifier"
      ],
      "execution_count": 17,
      "outputs": []
    },
    {
      "cell_type": "code",
      "metadata": {
        "id": "6uCBy_4NAlOk"
      },
      "source": [
        "def svc_rbf_kernel(X, y, C):\n",
        "  classifier = SVC(kernel='rbf', gamma=0.7, C=C)\n",
        "  classifier.fit(X, np.ravel(y))\n",
        "  return classifier"
      ],
      "execution_count": 18,
      "outputs": []
    },
    {
      "cell_type": "code",
      "metadata": {
        "id": "zTjYxLLfAmO0"
      },
      "source": [
        "def svc_poly_kernel(X, y, C):\n",
        "  classifier = SVC(kernel='poly', degree=3, gamma='auto', C=C)\n",
        "  classifier.fit(X, np.ravel(y))\n",
        "  return classifier"
      ],
      "execution_count": 19,
      "outputs": []
    },
    {
      "cell_type": "markdown",
      "metadata": {
        "id": "8UULU45heubB"
      },
      "source": [
        "# Cambio del parámetro C de 1 a 10"
      ]
    },
    {
      "cell_type": "code",
      "metadata": {
        "id": "n39vDZOYemht"
      },
      "source": [
        "def try_svm(model_name):\n",
        "  model_function = None\n",
        "  if model_name == \"svc_linear_kernel\":\n",
        "    model_function = svc_linear_kernel\n",
        "  elif model_name == \"svc_rbf_kernel\":\n",
        "    model_function = svc_rbf_kernel\n",
        "  elif model_name == \"svc_poly_kernel\":\n",
        "    model_function = svc_poly_kernel\n",
        "\n",
        "  c_list = [0.1,1, 10, 100]\n",
        "  error_list = []\n",
        "  varError = []\n",
        "  bias_list = []\n",
        "  variance_list = []\n",
        "  accuracy_list = []\n",
        "\n",
        "  for c in c_list:\n",
        "    svm_model = model_function(X_train, y_train, C=c)\n",
        "    pred_i = svm_model.predict(X_test)\n",
        "    b,e,ve,v = error_y_bias(pred_i,y_test)\n",
        "    accuracy = accuracy_score(y_test, pred_i)\n",
        "\n",
        "    bias_list.append(b)\n",
        "    error_list.append(e)\n",
        "    varError.append(ve)\n",
        "    variance_list.append(v)\n",
        "    accuracy_list.append(accuracy)\n",
        "    print(f\"C: {c}\")\n",
        "    print(f\"Error: {e}\")\n",
        "    print(f\"Accuracy: {accuracy}\")\n",
        "    print()\n",
        "\n",
        "  return c_list, error_list, varError, bias_list, variance_list, accuracy_list\n",
        "\n",
        "def plot_graphs(c_list, error_list, varError, bias_list, variance_list, accuracy_list):\n",
        "  fig, axs = plt.subplots(3, 2,figsize=(18,9))\n",
        "  fig.tight_layout(pad=3.0)\n",
        "\n",
        "  axs[0, 0].plot(c_list, bias_list, color='red', linestyle='dashed', marker='o',\n",
        "          markerfacecolor='blue', markersize=10)\n",
        "  axs[0, 0].set_title('Bias vs C')\n",
        "  axs[0, 0].set_xlabel('C')\n",
        "  axs[0, 0].set_ylabel('Bias')\n",
        "\n",
        "\n",
        "  axs[0, 1].plot(c_list, variance_list, color='red', linestyle='dashed', marker='o',\n",
        "          markerfacecolor='blue', markersize=10)\n",
        "  axs[0, 1].set_title('Varianza de la predicción vs C')\n",
        "  axs[0, 1].set_xlabel('C')\n",
        "  axs[0, 1].set_ylabel('Varianza de la predicción')\n",
        "\n",
        "  axs[1, 0].plot(c_list, error_list, color='red', linestyle='dashed', marker='o',\n",
        "          markerfacecolor='blue', markersize=10)\n",
        "  axs[1, 0].set_title('Error Rate vs C')\n",
        "  axs[1, 0].set_xlabel('C')\n",
        "  axs[1, 0].set_ylabel('Mean Error')\n",
        "\n",
        "\n",
        "  axs[1, 1].plot(c_list, varError, color='red', linestyle='dashed', marker='o',\n",
        "          markerfacecolor='blue', markersize=10)\n",
        "  axs[1, 1].set_title('Varianza del Error vs C')\n",
        "  axs[1, 1].set_xlabel('C')\n",
        "  axs[1, 1].set_ylabel('Varianza del Error')\n",
        "\n",
        "  axs[2, 0].plot(c_list, accuracy_list, color='red', linestyle='dashed', marker='o',\n",
        "          markerfacecolor='blue', markersize=10)\n",
        "  axs[2, 0].set_title('Accuracy del modelo vs C')\n",
        "  axs[2, 0].set_xlabel('C')\n",
        "  axs[2, 0].set_ylabel('Accuracy del modelo')\n",
        "\n",
        "  axs[2, 1].set_visible(False)"
      ],
      "execution_count": 20,
      "outputs": []
    },
    {
      "cell_type": "markdown",
      "metadata": {
        "id": "8cdxtd3qJsWp"
      },
      "source": [
        "## Using SVC with linear kernel"
      ]
    },
    {
      "cell_type": "code",
      "metadata": {
        "colab": {
          "base_uri": "https://localhost:8080/"
        },
        "id": "JCsyBsbvJr_0",
        "outputId": "5262230b-dbf0-4d7d-e93c-7deee7cec5ef"
      },
      "source": [
        "c_list, error_list, varError, bias_list, variance_list, accuracy_list = try_svm(\"svc_linear_kernel\")"
      ],
      "execution_count": 21,
      "outputs": [
        {
          "output_type": "stream",
          "name": "stdout",
          "text": [
            "C: 0.1\n",
            "Error: 0.015228426395939087\n",
            "Accuracy: 0.9847715736040609\n",
            "\n",
            "C: 1\n",
            "Error: 0.015228426395939087\n",
            "Accuracy: 0.9847715736040609\n",
            "\n",
            "C: 10\n",
            "Error: 0.015228426395939087\n",
            "Accuracy: 0.9847715736040609\n",
            "\n",
            "C: 100\n",
            "Error: 0.015228426395939087\n",
            "Accuracy: 0.9847715736040609\n",
            "\n"
          ]
        }
      ]
    },
    {
      "cell_type": "code",
      "metadata": {
        "colab": {
          "base_uri": "https://localhost:8080/",
          "height": 644
        },
        "id": "zOCOa6N3Jr3Z",
        "outputId": "be88ffce-259f-490f-84a3-c8c6d9d98795"
      },
      "source": [
        "plot_graphs(c_list, error_list, varError, bias_list, variance_list, accuracy_list)"
      ],
      "execution_count": 22,
      "outputs": [
        {
          "output_type": "display_data",
          "data": {
            "image/png": "[encoded data removed]",
            "text/plain": [
              "<Figure size 1296x648 with 6 Axes>"
            ]
          },
          "metadata": {
            "needs_background": "light"
          }
        }
      ]
    },
    {
      "cell_type": "markdown",
      "metadata": {
        "id": "h0BFehTSJ1yS"
      },
      "source": [
        "## Using SVC with RBF kernel"
      ]
    },
    {
      "cell_type": "code",
      "metadata": {
        "colab": {
          "base_uri": "https://localhost:8080/"
        },
        "id": "71Nnw5H3Jrtu",
        "outputId": "1286d484-c55e-49e8-a73f-41ea70008e47"
      },
      "source": [
        "c_list, error_list, varError, bias_list, variance_list, accuracy_list = try_svm(\"svc_rbf_kernel\")"
      ],
      "execution_count": 23,
      "outputs": [
        {
          "output_type": "stream",
          "name": "stdout",
          "text": [
            "C: 0.1\n",
            "Error: 0.7208121827411168\n",
            "Accuracy: 0.27918781725888325\n",
            "\n",
            "C: 1\n",
            "Error: 0.7208121827411168\n",
            "Accuracy: 0.27918781725888325\n",
            "\n",
            "C: 10\n",
            "Error: 0.7208121827411168\n",
            "Accuracy: 0.27918781725888325\n",
            "\n",
            "C: 100\n",
            "Error: 0.7208121827411168\n",
            "Accuracy: 0.27918781725888325\n",
            "\n"
          ]
        }
      ]
    },
    {
      "cell_type": "code",
      "metadata": {
        "colab": {
          "base_uri": "https://localhost:8080/",
          "height": 644
        },
        "id": "uYRIAoVeJ3v0",
        "outputId": "cbdbedef-fe9c-4352-b740-f8d8900e8ad0"
      },
      "source": [
        "plot_graphs(c_list, error_list, varError, bias_list, variance_list, accuracy_list)"
      ],
      "execution_count": 24,
      "outputs": [
        {
          "output_type": "display_data",
          "data": {
            "image/png": "[encoded data removed]",
            "text/plain": [
              "<Figure size 1296x648 with 6 Axes>"
            ]
          },
          "metadata": {
            "needs_background": "light"
          }
        }
      ]
    },
    {
      "cell_type": "markdown",
      "metadata": {
        "id": "7OVkfXUHJ4hC"
      },
      "source": [
        "## Using SVC with Poly kernel"
      ]
    },
    {
      "cell_type": "code",
      "metadata": {
        "colab": {
          "base_uri": "https://localhost:8080/"
        },
        "id": "1IDub73uJ8m_",
        "outputId": "8ebca742-d2f7-406c-ddaa-c779c15cd3e2"
      },
      "source": [
        "c_list, error_list, varError, bias_list, variance_list, accuracy_list = try_svm(\"svc_poly_kernel\")"
      ],
      "execution_count": 25,
      "outputs": [
        {
          "output_type": "stream",
          "name": "stdout",
          "text": [
            "C: 0.1\n",
            "Error: 0.015228426395939087\n",
            "Accuracy: 0.9847715736040609\n",
            "\n",
            "C: 1\n",
            "Error: 0.015228426395939087\n",
            "Accuracy: 0.9847715736040609\n",
            "\n",
            "C: 10\n",
            "Error: 0.015228426395939087\n",
            "Accuracy: 0.9847715736040609\n",
            "\n",
            "C: 100\n",
            "Error: 0.015228426395939087\n",
            "Accuracy: 0.9847715736040609\n",
            "\n"
          ]
        }
      ]
    },
    {
      "cell_type": "code",
      "metadata": {
        "colab": {
          "base_uri": "https://localhost:8080/",
          "height": 644
        },
        "id": "z8MTg1IIJ8a1",
        "outputId": "076abfab-c312-42ba-ed23-f5ed6a5a1ed4"
      },
      "source": [
        "plot_graphs(c_list, error_list, varError, bias_list, variance_list, accuracy_list)"
      ],
      "execution_count": 26,
      "outputs": [
        {
          "output_type": "display_data",
          "data": {
            "image/png": "[encoded data removed]",
            "text/plain": [
              "<Figure size 1296x648 with 6 Axes>"
            ]
          },
          "metadata": {
            "needs_background": "light"
          }
        }
      ]
    },
    {
      "cell_type": "markdown",
      "metadata": {
        "id": "gqdY4CfrQUTp"
      },
      "source": [
        "###*K-fold:* "
      ]
    },
    {
      "cell_type": "code",
      "metadata": {
        "id": "PdODcP64QUGe"
      },
      "source": [
        "def kfold(C, n_splits): \n",
        "  svm_model = SVC(kernel='linear', C=C)\n",
        "  svm_scores = cross_val_score(svm_model, X,np.ravel(y), cv=KFold(n_splits=n_splits,shuffle = True))\n",
        "  svm_model.fit(X_train, np.ravel(y_train))\n",
        "  predictions = svm_model.predict(X_test)\n",
        "  b,e,ve,v = error_y_bias(predictions,y_test)\n",
        "  print('****************')\n",
        "  print('K-fold Cross validation con ',n_splits,' splits')\n",
        "  print('  Ejecutando SVC con ', C,' C y se obtuvo:')\n",
        "  print(\"    - %0.2f bias con varianza de %0.2f\" % (b, v))\n",
        "  print(\"    - %0.2f error con varianza de %0.2f\" % (e, ve))\n",
        "  print(\"    - %0.2f accuracy score con desviación estándar de %0.2f\" % (svm_scores.mean(), svm_scores.std()))\n",
        "  print('****************')"
      ],
      "execution_count": 27,
      "outputs": []
    },
    {
      "cell_type": "code",
      "metadata": {
        "colab": {
          "base_uri": "https://localhost:8080/"
        },
        "id": "MPO8SPW_QZYg",
        "outputId": "877c289c-fed8-47fe-ec12-31f09e38304d"
      },
      "source": [
        "%%time\n",
        "kfold(C=1, n_splits=5)"
      ],
      "execution_count": 28,
      "outputs": [
        {
          "output_type": "stream",
          "name": "stdout",
          "text": [
            "****************\n",
            "K-fold Cross validation con  5  splits\n",
            "  Ejecutando SVC con  1  C y se obtuvo:\n",
            "    - 0.08 bias con varianza de 4.66\n",
            "    - 0.02 error con varianza de 0.12\n",
            "    - 0.99 accuracy score con desviación estándar de 0.01\n",
            "****************\n",
            "CPU times: user 7.34 s, sys: 20.1 ms, total: 7.36 s\n",
            "Wall time: 7.34 s\n"
          ]
        }
      ]
    },
    {
      "cell_type": "code",
      "metadata": {
        "colab": {
          "base_uri": "https://localhost:8080/"
        },
        "id": "YqQhpy8EQZO_",
        "outputId": "f7723e0a-36dd-48c9-b998-9f0dc5509109"
      },
      "source": [
        "%%time\n",
        "kfold(C=10, n_splits=5)"
      ],
      "execution_count": 29,
      "outputs": [
        {
          "output_type": "stream",
          "name": "stdout",
          "text": [
            "****************\n",
            "K-fold Cross validation con  5  splits\n",
            "  Ejecutando SVC con  10  C y se obtuvo:\n",
            "    - 0.08 bias con varianza de 4.66\n",
            "    - 0.02 error con varianza de 0.12\n",
            "    - 0.99 accuracy score con desviación estándar de 0.01\n",
            "****************\n",
            "CPU times: user 7.36 s, sys: 10.2 ms, total: 7.37 s\n",
            "Wall time: 7.35 s\n"
          ]
        }
      ]
    },
    {
      "cell_type": "code",
      "metadata": {
        "colab": {
          "base_uri": "https://localhost:8080/"
        },
        "id": "EX__BN6gQZJi",
        "outputId": "2b44ac0c-f94e-4ddf-b2a6-109fb9347306"
      },
      "source": [
        "%%time\n",
        "kfold(C=100, n_splits=5)"
      ],
      "execution_count": 30,
      "outputs": [
        {
          "output_type": "stream",
          "name": "stdout",
          "text": [
            "****************\n",
            "K-fold Cross validation con  5  splits\n",
            "  Ejecutando SVC con  100  C y se obtuvo:\n",
            "    - 0.08 bias con varianza de 4.66\n",
            "    - 0.02 error con varianza de 0.12\n",
            "    - 1.00 accuracy score con desviación estándar de 0.00\n",
            "****************\n",
            "CPU times: user 7.39 s, sys: 9.59 ms, total: 7.4 s\n",
            "Wall time: 7.4 s\n"
          ]
        }
      ]
    },
    {
      "cell_type": "markdown",
      "metadata": {
        "id": "LzYGVY2fRBFo"
      },
      "source": [
        "###*Bootstrap:*"
      ]
    },
    {
      "cell_type": "code",
      "metadata": {
        "id": "_Bi6OdlzRA65"
      },
      "source": [
        "def bootstrap(C, n_iterations):   \n",
        "  n_size = int(len(X) * (1 - test_size)) \n",
        "  values = df_images.values\n",
        "  bo_scores = list()\n",
        "  for i in range(n_iterations):\n",
        "      train = resample(values, n_samples = n_size, replace=True, stratify=y) \n",
        "      test = np.array([s for s in values if s.tolist() not in train.tolist()]) \n",
        "      svm_bo = SVC(kernel='linear', C=C)\n",
        "      svm_bo.fit(train[:,:-1], train[:,-1])\n",
        "      predictions = svm_bo.predict(test[:,:-1]) \n",
        "      score = accuracy_score(test[:,-1], predictions) \n",
        "      bo_scores.append(score)\n",
        "      b,e,ve,v = error_y_bias(predictions,test[:,-1])\n",
        "  \n",
        "  print('****************')\n",
        "  print('Bootstrap Cross validation con ',n_iterations,' iteraciones')\n",
        "  print('  Ejecutando SVC con ',C,' C y se obtuvo:')\n",
        "  print(\"    - %0.2f bias con varianza de %0.2f\" % (b, v))\n",
        "  print(\"    - %0.2f error con varianza de %0.2f\" % (e, ve))\n",
        "  print(\"    - %0.2f accuracy score con desviación estándar de %0.2f\" % (np.mean(bo_scores), np.std(bo_scores)))\n",
        "  print('****************')"
      ],
      "execution_count": 31,
      "outputs": []
    },
    {
      "cell_type": "code",
      "metadata": {
        "colab": {
          "base_uri": "https://localhost:8080/"
        },
        "id": "URrT5hMORAsI",
        "outputId": "124e5649-9954-4528-fe1a-b4dbeb1f669a"
      },
      "source": [
        "%%time\n",
        "bootstrap(C=1, n_iterations=4)"
      ],
      "execution_count": 32,
      "outputs": [
        {
          "output_type": "stream",
          "name": "stdout",
          "text": [
            "****************\n",
            "Bootstrap Cross validation con  4  iteraciones\n",
            "  Ejecutando SVC con  1  C y se obtuvo:\n",
            "    - 0.08 bias con varianza de 4.38\n",
            "    - 0.04 error con varianza de 0.18\n",
            "    - 0.95 accuracy score con desviación estándar de 0.02\n",
            "****************\n",
            "CPU times: user 4min 10s, sys: 31.2 s, total: 4min 41s\n",
            "Wall time: 4min 41s\n"
          ]
        }
      ]
    },
    {
      "cell_type": "code",
      "metadata": {
        "colab": {
          "base_uri": "https://localhost:8080/"
        },
        "id": "ez9KBbB_QZCM",
        "outputId": "a2114aae-4c17-4b47-ce7a-c7c175021ddf"
      },
      "source": [
        "%%time\n",
        "bootstrap(C=10, n_iterations=4)"
      ],
      "execution_count": 33,
      "outputs": [
        {
          "output_type": "stream",
          "name": "stdout",
          "text": [
            "****************\n",
            "Bootstrap Cross validation con  4  iteraciones\n",
            "  Ejecutando SVC con  10  C y se obtuvo:\n",
            "    - -0.05 bias con varianza de 4.29\n",
            "    - 0.02 error con varianza de 0.13\n",
            "    - 0.96 accuracy score con desviación estándar de 0.02\n",
            "****************\n",
            "CPU times: user 4min 18s, sys: 732 ms, total: 4min 18s\n",
            "Wall time: 4min 18s\n"
          ]
        }
      ]
    },
    {
      "cell_type": "code",
      "metadata": {
        "colab": {
          "base_uri": "https://localhost:8080/"
        },
        "id": "jXgSEdbpRHNF",
        "outputId": "cd607942-3851-45b0-c83a-6a120e4a2dc0"
      },
      "source": [
        "%%time\n",
        "bootstrap(C=100, n_iterations=4)"
      ],
      "execution_count": 34,
      "outputs": [
        {
          "output_type": "stream",
          "name": "stdout",
          "text": [
            "****************\n",
            "Bootstrap Cross validation con  4  iteraciones\n",
            "  Ejecutando SVC con  100  C y se obtuvo:\n",
            "    - 0.03 bias con varianza de 4.35\n",
            "    - 0.04 error con varianza de 0.21\n",
            "    - 0.96 accuracy score con desviación estándar de 0.01\n",
            "****************\n",
            "CPU times: user 4min 25s, sys: 801 ms, total: 4min 26s\n",
            "Wall time: 4min 25s\n"
          ]
        }
      ]
    },
    {
      "cell_type": "markdown",
      "metadata": {
        "id": "2kvJqo5zRN3Y"
      },
      "source": [
        "##  Crear una matriz de confusion y analizar los resultados."
      ]
    },
    {
      "cell_type": "code",
      "metadata": {
        "id": "9aMl-kpNhfCG"
      },
      "source": [
        "svm_model = svc_linear_kernel(X, y, C=10)\n",
        "y_pred = svm_model.predict(X_test)"
      ],
      "execution_count": 35,
      "outputs": []
    },
    {
      "cell_type": "code",
      "metadata": {
        "colab": {
          "base_uri": "https://localhost:8080/"
        },
        "id": "5R4fX3RaOAaq",
        "outputId": "a700d0d6-d9e7-428b-94d0-a14bc054b2ba"
      },
      "source": [
        "accuracy_score(y_test, y_pred)"
      ],
      "execution_count": 36,
      "outputs": [
        {
          "output_type": "execute_result",
          "data": {
            "text/plain": [
              "1.0"
            ]
          },
          "metadata": {},
          "execution_count": 36
        }
      ]
    },
    {
      "cell_type": "code",
      "metadata": {
        "colab": {
          "base_uri": "https://localhost:8080/"
        },
        "id": "8sQpyiACODvV",
        "outputId": "b20acf78-06b8-4fab-d8f8-04af35387a81"
      },
      "source": [
        "b,e,ve,v = error_y_bias(y_pred,y_test)\n",
        "print(\"El bias calculado es %0.2f\" %b)\n",
        "print(\"El error calculado es %0.2f\" %e)\n",
        "print(\"La varianza del error es %0.2f\" %ve)\n",
        "print(\"La varianza es %0.2f\" %v)\n"
      ],
      "execution_count": 37,
      "outputs": [
        {
          "output_type": "stream",
          "name": "stdout",
          "text": [
            "El bias calculado es 0.00\n",
            "El error calculado es 0.00\n",
            "La varianza del error es 0.00\n",
            "La varianza es 4.68\n"
          ]
        }
      ]
    },
    {
      "cell_type": "code",
      "metadata": {
        "colab": {
          "base_uri": "https://localhost:8080/"
        },
        "id": "Q44C0ZEXOFom",
        "outputId": "d9db71ab-e9bd-43f4-e24f-6a839fa67e45"
      },
      "source": [
        "from sklearn.metrics import classification_report, confusion_matrix\n",
        "cm = confusion_matrix(y_test, y_pred)\n",
        "print(classification_report(y_test, y_pred))"
      ],
      "execution_count": 38,
      "outputs": [
        {
          "output_type": "stream",
          "name": "stdout",
          "text": [
            "              precision    recall  f1-score   support\n",
            "\n",
            "         0.0       1.00      1.00      1.00        29\n",
            "         1.0       1.00      1.00      1.00        16\n",
            "         2.0       1.00      1.00      1.00        36\n",
            "         3.0       1.00      1.00      1.00         5\n",
            "         4.0       1.00      1.00      1.00        42\n",
            "         5.0       1.00      1.00      1.00        14\n",
            "         6.0       1.00      1.00      1.00        55\n",
            "\n",
            "    accuracy                           1.00       197\n",
            "   macro avg       1.00      1.00      1.00       197\n",
            "weighted avg       1.00      1.00      1.00       197\n",
            "\n"
          ]
        }
      ]
    },
    {
      "cell_type": "code",
      "metadata": {
        "colab": {
          "base_uri": "https://localhost:8080/",
          "height": 566
        },
        "id": "NvmXGAeHOINr",
        "outputId": "305d3ca3-69c5-4635-da21-29d74a74f1a2"
      },
      "source": [
        "#ax= plt.subplot()\n",
        "fig, ax= plt.subplots(figsize=(12,9))\n",
        "\n",
        "#fig, axs = plt.subplots(3, 2,figsize=(18,9))\n",
        "#fig.tight_layout(pad=3.0)\n",
        "\n",
        "sns.heatmap(cm, annot=True, fmt='g', ax=ax);  #annot=True to annotate cells, ftm='g' to disable scientific notation\n",
        "\n",
        "# labels, title and ticks\n",
        "ax.set_xlabel('Predicted labels');ax.set_ylabel('True labels'); \n",
        "ax.set_title('Confusion Matrix'); \n",
        "ax.xaxis.set_ticklabels(['anger', 'contempt', 'disgust', 'fear', 'happy', 'sadness', 'surprise']); \n",
        "ax.yaxis.set_ticklabels(['anger', 'contempt', 'disgust', 'fear', 'happy', 'sadness', 'surprise']);"
      ],
      "execution_count": 39,
      "outputs": [
        {
          "output_type": "display_data",
          "data": {
            "image/png": "[encoded data removed]",
            "text/plain": [
              "<Figure size 864x648 with 2 Axes>"
            ]
          },
          "metadata": {
            "needs_background": "light"
          }
        }
      ]
    },
    {
      "cell_type": "markdown",
      "metadata": {
        "id": "xKcXs05YOKdd"
      },
      "source": [
        "*   0: anger\n",
        "*   1: contempt\n",
        "*   2: disgust\n",
        "*   3: fear\n",
        "*   4: happy\n",
        "*   5: sadness\n",
        "*   6: surprise\n"
      ]
    },
    {
      "cell_type": "code",
      "metadata": {
        "id": "Wcyb_hcoOi--"
      },
      "source": [
        ""
      ],
      "execution_count": 39,
      "outputs": []
    }
  ]
}