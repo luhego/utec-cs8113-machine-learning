{
  "nbformat": 4,
  "nbformat_minor": 0,
  "metadata": {
    "colab": {
      "name": "KNN.ipynb",
      "provenance": [],
      "collapsed_sections": []
    },
    "kernelspec": {
      "display_name": "Python 3",
      "name": "python3"
    },
    "language_info": {
      "name": "python"
    }
  },
  "cells": [
    {
      "cell_type": "markdown",
      "metadata": {
        "id": "Ff9mlLUTfjPK"
      },
      "source": [
        "###*Librerías:*"
      ]
    },
    {
      "cell_type": "code",
      "metadata": {
        "id": "KR4fAyEPfgjC"
      },
      "source": [
        "import numpy as np\n",
        "import pandas as pd\n",
        "import matplotlib.pyplot as plt\n",
        "import pywt\n",
        "import cv2\n",
        "import os\n",
        "from sklearn.metrics import confusion_matrix\n",
        "import seaborn as sns\n",
        "from sklearn.model_selection import train_test_split\n",
        "from sklearn.model_selection import cross_val_score\n",
        "from sklearn.neighbors import KNeighborsClassifier\n",
        "from sklearn.model_selection import KFold\n",
        "from sklearn.utils import resample\n",
        "from sklearn.metrics import accuracy_score"
      ],
      "execution_count": 2,
      "outputs": []
    },
    {
      "cell_type": "code",
      "metadata": {
        "colab": {
          "base_uri": "https://localhost:8080/"
        },
        "id": "0pfRIKW_d21Q",
        "outputId": "8f8a03e1-9c81-4bd1-dc8b-f36759999e70"
      },
      "source": [
        "from google.colab import drive\n",
        "drive.mount('/content/gdrive')"
      ],
      "execution_count": 3,
      "outputs": [
        {
          "output_type": "stream",
          "name": "stdout",
          "text": [
            "Drive already mounted at /content/gdrive; to attempt to forcibly remount, call drive.mount(\"/content/gdrive\", force_remount=True).\n"
          ]
        }
      ]
    },
    {
      "cell_type": "code",
      "metadata": {
        "id": "e1bu1U0Ddxlb"
      },
      "source": [
        "path_data = '/content/gdrive/MyDrive/AprendizajeAutomatico/Proyecto1/CK48/'"
      ],
      "execution_count": 4,
      "outputs": []
    },
    {
      "cell_type": "markdown",
      "metadata": {
        "id": "cTsAbUTzfXTW"
      },
      "source": [
        " ## 1) Generar los vectores característica de las imágenes"
      ]
    },
    {
      "cell_type": "code",
      "metadata": {
        "id": "LOcgiOOFfWje"
      },
      "source": [
        "def Haar(imagen, cortes):\n",
        " for i in range(cortes):\n",
        "   LL, (LH, HL, HH) = pywt.dwt2(imagen, 'haar')\n",
        "   imagen = LL\n",
        " return imagen\n",
        "\n",
        "def vectorizar(matrix):\n",
        "  return matrix.flatten()\n",
        "\n",
        "def preprocesar(imagenes):\n",
        "  imagenes_vectorizadas = []\n",
        "  for imagen in imagenes:\n",
        "    imagenes_vectorizadas.append(vectorizar(Haar(imagen, 1)))\n",
        "  return imagenes_vectorizadas"
      ],
      "execution_count": 5,
      "outputs": []
    },
    {
      "cell_type": "code",
      "metadata": {
        "id": "zScGd4JzfoHy"
      },
      "source": [
        "ANG_TRAIN_PATH = path_data + \"anger\"\n",
        "CON_TRAIN_PATH = path_data + \"contempt\"\n",
        "DIS_TRAIN_PATH = path_data + \"disgust\"\n",
        "FEA_TRAIN_PATH = path_data + \"fear\"\n",
        "HAP_TRAIN_PATH = path_data + \"happy\"\n",
        "SAD_TRAIN_PATH = path_data + \"sadness\"\n",
        "SUR_TRAIN_PATH = path_data + \"surprise\"\n",
        "\n",
        "def get_imagenes(dir_path):\n",
        "  imagenes = []\n",
        "  for img_path in os.listdir(dir_path):\n",
        "    img_full_path = os.path.join(dir_path, img_path)\n",
        "    img = cv2.imread(img_full_path)\n",
        "    imagenes.append(img)\n",
        "  return imagenes"
      ],
      "execution_count": 6,
      "outputs": []
    },
    {
      "cell_type": "code",
      "metadata": {
        "id": "920_YFPtNhrd"
      },
      "source": [
        "train_ang = preprocesar(get_imagenes(ANG_TRAIN_PATH))\n",
        "train_con = preprocesar(get_imagenes(CON_TRAIN_PATH))\n",
        "train_dis = preprocesar(get_imagenes(DIS_TRAIN_PATH))\n",
        "train_fea = preprocesar(get_imagenes(FEA_TRAIN_PATH))\n",
        "train_hap = preprocesar(get_imagenes(HAP_TRAIN_PATH))\n",
        "train_sad = preprocesar(get_imagenes(SAD_TRAIN_PATH))\n",
        "train_sur = preprocesar(get_imagenes(SUR_TRAIN_PATH))"
      ],
      "execution_count": 7,
      "outputs": []
    },
    {
      "cell_type": "code",
      "metadata": {
        "id": "ZnL2JvqHqItG"
      },
      "source": [
        "train_ang = np.array(train_ang)\n",
        "train_con = np.array(train_con)\n",
        "train_dis = np.array(train_dis)\n",
        "train_fea = np.array(train_fea)\n",
        "train_hap = np.array(train_hap)\n",
        "train_sad = np.array(train_sad)\n",
        "train_sur = np.array(train_sur)"
      ],
      "execution_count": 8,
      "outputs": []
    },
    {
      "cell_type": "markdown",
      "metadata": {
        "id": "TWZJnAL0qPBK"
      },
      "source": [
        "###*Creacion de la matriz x*"
      ]
    },
    {
      "cell_type": "code",
      "metadata": {
        "colab": {
          "base_uri": "https://localhost:8080/"
        },
        "id": "RqVD_bSHQZDj",
        "outputId": "edf4a5ab-5c7f-4815-d1ef-882bb197b666"
      },
      "source": [
        "print(np.shape(train_ang))\n",
        "print(np.shape(train_con))\n",
        "print(np.shape(train_dis))\n",
        "print(np.shape(train_fea))\n",
        "print(np.shape(train_hap))\n",
        "print(np.shape(train_sad))\n",
        "print(np.shape(train_sur))"
      ],
      "execution_count": 9,
      "outputs": [
        {
          "output_type": "stream",
          "name": "stdout",
          "text": [
            "(135, 2304)\n",
            "(54, 2304)\n",
            "(177, 2304)\n",
            "(75, 2304)\n",
            "(207, 2304)\n",
            "(84, 2304)\n",
            "(249, 2304)\n"
          ]
        }
      ]
    },
    {
      "cell_type": "code",
      "metadata": {
        "id": "ZLh7jfPfVxD4"
      },
      "source": [
        "m_train = len(train_ang) + len(train_con) \\\n",
        "  + len(train_dis) + len(train_fea) + len(train_hap) \\\n",
        "  + len(train_sad) + len(train_sur) \n",
        "k_train = np.shape(train_ang)[1]"
      ],
      "execution_count": 10,
      "outputs": []
    },
    {
      "cell_type": "code",
      "metadata": {
        "id": "tuS9VRsUWCii"
      },
      "source": [
        "X = np.concatenate((train_ang, train_con,train_dis,train_fea,train_hap,train_sad,train_sur)).reshape(m_train,k_train)"
      ],
      "execution_count": 11,
      "outputs": []
    },
    {
      "cell_type": "markdown",
      "metadata": {
        "id": "smdJUxtwqmMH"
      },
      "source": [
        "###*Creacion de las etiquetas y*: \n",
        "*   0: anger\n",
        "*   1: contempt\n",
        "*   2: disgust\n",
        "*   3: fear\n",
        "*   4: happy\n",
        "*   5: sadness\n",
        "*   6: surprise\n",
        "\n",
        "\n",
        "\n"
      ]
    },
    {
      "cell_type": "code",
      "metadata": {
        "colab": {
          "base_uri": "https://localhost:8080/"
        },
        "id": "AUo-M9-ue7Tt",
        "outputId": "51d0ae30-db0e-48c9-8869-27604e326100"
      },
      "source": [
        "y1_train = np.zeros(len(train_ang))\n",
        "y2_train = np.ones(len(train_con))\n",
        "y3_train = np.full(len(train_dis), 2)\n",
        "y4_train = np.full(len(train_fea), 3)\n",
        "y5_train = np.full(len(train_hap), 4)\n",
        "y6_train = np.full(len(train_sad), 5)\n",
        "y7_train = np.full(len(train_sur), 6)\n",
        "\n",
        "y = np.concatenate((y1_train, y2_train,y3_train,y4_train,y5_train,y6_train,y7_train)).reshape(m_train,1)\n",
        "y.shape"
      ],
      "execution_count": 12,
      "outputs": [
        {
          "output_type": "execute_result",
          "data": {
            "text/plain": [
              "(981, 1)"
            ]
          },
          "metadata": {},
          "execution_count": 12
        }
      ]
    },
    {
      "cell_type": "code",
      "metadata": {
        "colab": {
          "base_uri": "https://localhost:8080/"
        },
        "id": "dlcMkKirfATz",
        "outputId": "c6e88b91-d5ea-45a2-e867-d0b11e65038d"
      },
      "source": [
        "print(np.shape(X))\n",
        "X"
      ],
      "execution_count": 13,
      "outputs": [
        {
          "output_type": "stream",
          "name": "stdout",
          "text": [
            "(981, 2304)\n"
          ]
        },
        {
          "output_type": "execute_result",
          "data": {
            "text/plain": [
              "array([[225., 225., 124., ...,   4.,  28.,  28.],\n",
              "       [ 40.,  40.,  25., ..., 293., 308., 308.],\n",
              "       [ 34.,  34.,  29., ..., 299., 309., 309.],\n",
              "       ...,\n",
              "       [254., 254., 162., ..., 101., 107., 107.],\n",
              "       [ 89.,  89.,  82., ...,   2.,  49.,  49.],\n",
              "       [ 52.,  52.,  45., ..., 294., 290., 290.]])"
            ]
          },
          "metadata": {},
          "execution_count": 13
        }
      ]
    },
    {
      "cell_type": "code",
      "metadata": {
        "colab": {
          "base_uri": "https://localhost:8080/"
        },
        "id": "10G9KmPHfBBp",
        "outputId": "20373581-e37f-4b3b-8707-32a929bc5cfa"
      },
      "source": [
        "print(np.shape(y))\n",
        "np.ravel(y)"
      ],
      "execution_count": 14,
      "outputs": [
        {
          "output_type": "stream",
          "name": "stdout",
          "text": [
            "(981, 1)\n"
          ]
        },
        {
          "output_type": "execute_result",
          "data": {
            "text/plain": [
              "array([0., 0., 0., 0., 0., 0., 0., 0., 0., 0., 0., 0., 0., 0., 0., 0., 0.,\n",
              "       0., 0., 0., 0., 0., 0., 0., 0., 0., 0., 0., 0., 0., 0., 0., 0., 0.,\n",
              "       0., 0., 0., 0., 0., 0., 0., 0., 0., 0., 0., 0., 0., 0., 0., 0., 0.,\n",
              "       0., 0., 0., 0., 0., 0., 0., 0., 0., 0., 0., 0., 0., 0., 0., 0., 0.,\n",
              "       0., 0., 0., 0., 0., 0., 0., 0., 0., 0., 0., 0., 0., 0., 0., 0., 0.,\n",
              "       0., 0., 0., 0., 0., 0., 0., 0., 0., 0., 0., 0., 0., 0., 0., 0., 0.,\n",
              "       0., 0., 0., 0., 0., 0., 0., 0., 0., 0., 0., 0., 0., 0., 0., 0., 0.,\n",
              "       0., 0., 0., 0., 0., 0., 0., 0., 0., 0., 0., 0., 0., 0., 0., 0., 1.,\n",
              "       1., 1., 1., 1., 1., 1., 1., 1., 1., 1., 1., 1., 1., 1., 1., 1., 1.,\n",
              "       1., 1., 1., 1., 1., 1., 1., 1., 1., 1., 1., 1., 1., 1., 1., 1., 1.,\n",
              "       1., 1., 1., 1., 1., 1., 1., 1., 1., 1., 1., 1., 1., 1., 1., 1., 1.,\n",
              "       1., 1., 2., 2., 2., 2., 2., 2., 2., 2., 2., 2., 2., 2., 2., 2., 2.,\n",
              "       2., 2., 2., 2., 2., 2., 2., 2., 2., 2., 2., 2., 2., 2., 2., 2., 2.,\n",
              "       2., 2., 2., 2., 2., 2., 2., 2., 2., 2., 2., 2., 2., 2., 2., 2., 2.,\n",
              "       2., 2., 2., 2., 2., 2., 2., 2., 2., 2., 2., 2., 2., 2., 2., 2., 2.,\n",
              "       2., 2., 2., 2., 2., 2., 2., 2., 2., 2., 2., 2., 2., 2., 2., 2., 2.,\n",
              "       2., 2., 2., 2., 2., 2., 2., 2., 2., 2., 2., 2., 2., 2., 2., 2., 2.,\n",
              "       2., 2., 2., 2., 2., 2., 2., 2., 2., 2., 2., 2., 2., 2., 2., 2., 2.,\n",
              "       2., 2., 2., 2., 2., 2., 2., 2., 2., 2., 2., 2., 2., 2., 2., 2., 2.,\n",
              "       2., 2., 2., 2., 2., 2., 2., 2., 2., 2., 2., 2., 2., 2., 2., 2., 2.,\n",
              "       2., 2., 2., 2., 2., 2., 2., 2., 2., 2., 2., 2., 2., 2., 2., 2., 2.,\n",
              "       2., 2., 2., 2., 2., 2., 2., 2., 2., 3., 3., 3., 3., 3., 3., 3., 3.,\n",
              "       3., 3., 3., 3., 3., 3., 3., 3., 3., 3., 3., 3., 3., 3., 3., 3., 3.,\n",
              "       3., 3., 3., 3., 3., 3., 3., 3., 3., 3., 3., 3., 3., 3., 3., 3., 3.,\n",
              "       3., 3., 3., 3., 3., 3., 3., 3., 3., 3., 3., 3., 3., 3., 3., 3., 3.,\n",
              "       3., 3., 3., 3., 3., 3., 3., 3., 3., 3., 3., 3., 3., 3., 3., 3., 4.,\n",
              "       4., 4., 4., 4., 4., 4., 4., 4., 4., 4., 4., 4., 4., 4., 4., 4., 4.,\n",
              "       4., 4., 4., 4., 4., 4., 4., 4., 4., 4., 4., 4., 4., 4., 4., 4., 4.,\n",
              "       4., 4., 4., 4., 4., 4., 4., 4., 4., 4., 4., 4., 4., 4., 4., 4., 4.,\n",
              "       4., 4., 4., 4., 4., 4., 4., 4., 4., 4., 4., 4., 4., 4., 4., 4., 4.,\n",
              "       4., 4., 4., 4., 4., 4., 4., 4., 4., 4., 4., 4., 4., 4., 4., 4., 4.,\n",
              "       4., 4., 4., 4., 4., 4., 4., 4., 4., 4., 4., 4., 4., 4., 4., 4., 4.,\n",
              "       4., 4., 4., 4., 4., 4., 4., 4., 4., 4., 4., 4., 4., 4., 4., 4., 4.,\n",
              "       4., 4., 4., 4., 4., 4., 4., 4., 4., 4., 4., 4., 4., 4., 4., 4., 4.,\n",
              "       4., 4., 4., 4., 4., 4., 4., 4., 4., 4., 4., 4., 4., 4., 4., 4., 4.,\n",
              "       4., 4., 4., 4., 4., 4., 4., 4., 4., 4., 4., 4., 4., 4., 4., 4., 4.,\n",
              "       4., 4., 4., 4., 4., 4., 4., 4., 4., 4., 4., 4., 4., 4., 4., 4., 4.,\n",
              "       4., 4., 4., 4., 4., 4., 4., 4., 4., 4., 4., 4., 4., 4., 4., 4., 4.,\n",
              "       4., 4., 5., 5., 5., 5., 5., 5., 5., 5., 5., 5., 5., 5., 5., 5., 5.,\n",
              "       5., 5., 5., 5., 5., 5., 5., 5., 5., 5., 5., 5., 5., 5., 5., 5., 5.,\n",
              "       5., 5., 5., 5., 5., 5., 5., 5., 5., 5., 5., 5., 5., 5., 5., 5., 5.,\n",
              "       5., 5., 5., 5., 5., 5., 5., 5., 5., 5., 5., 5., 5., 5., 5., 5., 5.,\n",
              "       5., 5., 5., 5., 5., 5., 5., 5., 5., 5., 5., 5., 5., 5., 5., 5., 5.,\n",
              "       5., 6., 6., 6., 6., 6., 6., 6., 6., 6., 6., 6., 6., 6., 6., 6., 6.,\n",
              "       6., 6., 6., 6., 6., 6., 6., 6., 6., 6., 6., 6., 6., 6., 6., 6., 6.,\n",
              "       6., 6., 6., 6., 6., 6., 6., 6., 6., 6., 6., 6., 6., 6., 6., 6., 6.,\n",
              "       6., 6., 6., 6., 6., 6., 6., 6., 6., 6., 6., 6., 6., 6., 6., 6., 6.,\n",
              "       6., 6., 6., 6., 6., 6., 6., 6., 6., 6., 6., 6., 6., 6., 6., 6., 6.,\n",
              "       6., 6., 6., 6., 6., 6., 6., 6., 6., 6., 6., 6., 6., 6., 6., 6., 6.,\n",
              "       6., 6., 6., 6., 6., 6., 6., 6., 6., 6., 6., 6., 6., 6., 6., 6., 6.,\n",
              "       6., 6., 6., 6., 6., 6., 6., 6., 6., 6., 6., 6., 6., 6., 6., 6., 6.,\n",
              "       6., 6., 6., 6., 6., 6., 6., 6., 6., 6., 6., 6., 6., 6., 6., 6., 6.,\n",
              "       6., 6., 6., 6., 6., 6., 6., 6., 6., 6., 6., 6., 6., 6., 6., 6., 6.,\n",
              "       6., 6., 6., 6., 6., 6., 6., 6., 6., 6., 6., 6., 6., 6., 6., 6., 6.,\n",
              "       6., 6., 6., 6., 6., 6., 6., 6., 6., 6., 6., 6., 6., 6., 6., 6., 6.,\n",
              "       6., 6., 6., 6., 6., 6., 6., 6., 6., 6., 6., 6., 6., 6., 6., 6., 6.,\n",
              "       6., 6., 6., 6., 6., 6., 6., 6., 6., 6., 6., 6., 6., 6., 6., 6., 6.,\n",
              "       6., 6., 6., 6., 6., 6., 6., 6., 6., 6., 6., 6.])"
            ]
          },
          "metadata": {},
          "execution_count": 14
        }
      ]
    },
    {
      "cell_type": "code",
      "metadata": {
        "colab": {
          "base_uri": "https://localhost:8080/"
        },
        "id": "S6ryzRaI2TCm",
        "outputId": "ac813ef1-2f80-408b-b3ae-291d62fc3cb1"
      },
      "source": [
        "X = pd.DataFrame(X)\n",
        "y = pd.DataFrame(y)\n",
        "print(X.shape)\n",
        "print(y.shape)\n",
        "df_images = pd.concat([X,y], axis=1)\n",
        "print(df_images.shape)"
      ],
      "execution_count": 15,
      "outputs": [
        {
          "output_type": "stream",
          "name": "stdout",
          "text": [
            "(981, 2304)\n",
            "(981, 1)\n",
            "(981, 2305)\n"
          ]
        }
      ]
    },
    {
      "cell_type": "markdown",
      "metadata": {
        "id": "TWzfNTwkvu5o"
      },
      "source": [
        "## 2) Modelo KNN"
      ]
    },
    {
      "cell_type": "markdown",
      "metadata": {
        "id": "e4URv4Ie3cMr"
      },
      "source": [
        "###*Modelo KNN y cálculo de error y bias*: "
      ]
    },
    {
      "cell_type": "code",
      "metadata": {
        "id": "h-6wOWmkAvyl"
      },
      "source": [
        "test_size=0.20\n",
        "semilla=333\n",
        "X_train, X_test, y_train, y_test = train_test_split(X, y, test_size=test_size,random_state=semilla)"
      ],
      "execution_count": 16,
      "outputs": []
    },
    {
      "cell_type": "code",
      "metadata": {
        "id": "Vv2nchEJeKIl"
      },
      "source": [
        "def error_y_bias(y_pred,y_test):\n",
        "  #Bias\n",
        "  bias = np.mean(np.ravel(y_test) - np.ravel(y_pred))\n",
        "  #Error\n",
        "  error = np.mean(np.ravel(y_pred) != np.ravel(y_test))\n",
        "  #Varianza Error\n",
        "  varError = np.std(np.ravel(y_pred) != np.ravel(y_test))\n",
        "  #Varianza Predicción\n",
        "  var = np.mean(np.ravel(y_pred)**2) - np.mean(np.ravel(y_pred))**2\n",
        "\n",
        "  return bias, error, varError, var"
      ],
      "execution_count": 17,
      "outputs": []
    },
    {
      "cell_type": "code",
      "metadata": {
        "id": "5pk2wUeAwEKk"
      },
      "source": [
        "def KNN_model(X,y,n_neighbors):\n",
        "  classifier = KNeighborsClassifier(n_neighbors=n_neighbors)\n",
        "  classifier.fit(X_train, np.ravel(y_train))\n",
        "  return classifier"
      ],
      "execution_count": 18,
      "outputs": []
    },
    {
      "cell_type": "markdown",
      "metadata": {
        "id": "of1couUK3lQb"
      },
      "source": [
        "## 3) Experimentación del modelo con neighbors desde 2 a 50"
      ]
    },
    {
      "cell_type": "code",
      "metadata": {
        "id": "MN93VomlehMx"
      },
      "source": [
        "min_neighbors = 2\n",
        "max_neighbors = 50\n",
        "error = []\n",
        "varError = []\n",
        "bias = []\n",
        "varianza = []\n",
        "accuracy = []\n",
        "\n",
        "for i in range(min_neighbors, max_neighbors):\n",
        "    knn = KNN_model(X_train, y_train,n_neighbors=i)\n",
        "    pred_i = knn.predict(X_test)\n",
        "    b,e,ve,v = error_y_bias(pred_i,y_test)\n",
        "    bias.append(b)\n",
        "    error.append(e)\n",
        "    varError.append(ve)\n",
        "    varianza.append(v)\n",
        "    accuracy.append(accuracy_score(y_test, pred_i))"
      ],
      "execution_count": 90,
      "outputs": []
    },
    {
      "cell_type": "code",
      "metadata": {
        "colab": {
          "base_uri": "https://localhost:8080/",
          "height": 645
        },
        "id": "a5o4oIF9PEZk",
        "outputId": "4fc9a46d-e80e-4b1f-9a9b-f01d136d18db"
      },
      "source": [
        "fig, axs = plt.subplots(3, 2,figsize=(18,9))\n",
        "fig.tight_layout(pad=3.0)\n",
        "\n",
        "axs[0, 0].plot(range(min_neighbors, max_neighbors), bias, color='red', linestyle='dashed', marker='o',\n",
        "         markerfacecolor='blue', markersize=10)\n",
        "axs[0, 0].set_title('Bias de la predicción')\n",
        "axs[0, 0].set_xlabel('K Value')\n",
        "axs[0, 0].set_ylabel('Bias')\n",
        "\n",
        "\n",
        "axs[0, 1].plot(range(min_neighbors, max_neighbors), varianza, color='red', linestyle='dashed', marker='o',\n",
        "         markerfacecolor='blue', markersize=10)\n",
        "axs[0, 1].set_title('Varianza de la predicción')\n",
        "axs[0, 1].set_xlabel('K Value')\n",
        "axs[0, 1].set_ylabel('Varianza de la predicción')\n",
        "\n",
        "axs[1, 0].plot(range(min_neighbors, max_neighbors), error, color='red', linestyle='dashed', marker='o',\n",
        "         markerfacecolor='blue', markersize=10)\n",
        "axs[1, 0].set_title('Error Rate')\n",
        "axs[1, 0].set_xlabel('K Value')\n",
        "axs[1, 0].set_ylabel('Mean Error')\n",
        "\n",
        "\n",
        "axs[1, 1].plot(range(min_neighbors, max_neighbors), varError, color='red', linestyle='dashed', marker='o',\n",
        "         markerfacecolor='blue', markersize=10)\n",
        "axs[1, 1].set_title('Varianza del Error')\n",
        "axs[1, 1].set_xlabel('K Value')\n",
        "axs[1, 1].set_ylabel('Varianza del Error')\n",
        "\n",
        "axs[2, 0].plot(range(min_neighbors, max_neighbors), accuracy, color='red', linestyle='dashed', marker='o',\n",
        "         markerfacecolor='blue', markersize=10)\n",
        "axs[2, 0].set_title('Accuracy del modelo')\n",
        "axs[2, 0].set_xlabel('K Value')\n",
        "axs[2, 0].set_ylabel('Accuracy del modelo')\n",
        "\n",
        "axs[2, 1].set_visible(False)\n"
      ],
      "execution_count": 91,
      "outputs": [
        {
          "output_type": "display_data",
          "data": {
            "image/png": "[encoded data removed]",
            "text/plain": [
              "<Figure size 1296x648 with 6 Axes>"
            ]
          },
          "metadata": {
            "needs_background": "light"
          }
        }
      ]
    },
    {
      "cell_type": "markdown",
      "metadata": {
        "id": "S7z3ys6i3w1k"
      },
      "source": [
        "## 4) Cross validation usando K-Fold y Bootstrap"
      ]
    },
    {
      "cell_type": "markdown",
      "metadata": {
        "id": "GHG1xkbuJITc"
      },
      "source": [
        "###*K-fold:* "
      ]
    },
    {
      "cell_type": "code",
      "metadata": {
        "id": "NcOEMcx1Zh95"
      },
      "source": [
        "def kfold(n_neighbors, n_splits): \n",
        "  knn_kf = KNeighborsClassifier(n_neighbors=n_neighbors)\n",
        "  kf_scores = cross_val_score(knn_kf, X,np.ravel(y), cv=KFold(n_splits=n_splits,shuffle = True))\n",
        "  #kf_scores = cross_val_score(knn_kf, X,np.ravel(y), cv=KFold(n_splits=5,shuffle = True, random_state=semilla))\n",
        "  knn_kf.fit(X_train, np.ravel(y_train))\n",
        "  predictions = knn_kf.predict(X_test)\n",
        "  b,e,ve,v = error_y_bias(predictions,y_test)\n",
        "  print('****************')\n",
        "  print('K-fold Cross validation con ',n_splits,' splits')\n",
        "  print('  Ejecutando KNN con ',n_neighbors,' neighbors y se obtuvo:')\n",
        "  print(\"    - %0.2f bias con varianza de %0.2f\" % (b, v))\n",
        "  print(\"    - %0.2f error con varianza de %0.2f\" % (e, ve))\n",
        "  print(\"    - %0.2f accuracy score con desviación estándar de %0.2f\" % (kf_scores.mean(), kf_scores.std()))\n",
        "  print('****************')"
      ],
      "execution_count": 75,
      "outputs": []
    },
    {
      "cell_type": "code",
      "metadata": {
        "colab": {
          "base_uri": "https://localhost:8080/"
        },
        "id": "-nzxUgSBxhnb",
        "outputId": "9a864861-828e-4397-ef7c-65dde7f12092"
      },
      "source": [
        "kfold(n_neighbors = 2, n_splits =5)\n",
        "kfold(n_neighbors = 3, n_splits =5)\n"
      ],
      "execution_count": 76,
      "outputs": [
        {
          "output_type": "stream",
          "name": "stdout",
          "text": [
            "****************\n",
            "K-fold Cross validation con  5  splits\n",
            "  Ejecutando KNN con  2  neighbors y se obtuvo:\n",
            "    - 0.69 bias con varianza de 4.76\n",
            "    - 0.21 error con varianza de 0.41\n",
            "    - 0.81 accuracy score con desviación estándar de 0.02\n",
            "****************\n",
            "****************\n",
            "K-fold Cross validation con  5  splits\n",
            "  Ejecutando KNN con  3  neighbors y se obtuvo:\n",
            "    - 0.49 bias con varianza de 4.77\n",
            "    - 0.30 error con varianza de 0.46\n",
            "    - 0.70 accuracy score con desviación estándar de 0.03\n",
            "****************\n"
          ]
        }
      ]
    },
    {
      "cell_type": "markdown",
      "metadata": {
        "id": "_bORyNHoJV_R"
      },
      "source": [
        "###*Bootstrap:*"
      ]
    },
    {
      "cell_type": "code",
      "metadata": {
        "id": "4t2aoJtT31EX"
      },
      "source": [
        "def bootstrap(n_neighbors, n_iterations):   \n",
        "  n_size = int(len(X) * (1 - test_size)) \n",
        "  values = df_images.values\n",
        "  bo_scores = list()\n",
        "  for i in range(n_iterations):\n",
        "      train = resample(values, n_samples = n_size, replace=True, stratify=y) \n",
        "      test = np.array([s for s in values if s.tolist() not in train.tolist()]) \n",
        "      knn_bo = KNeighborsClassifier(n_neighbors=n_neighbors)\n",
        "      knn_bo.fit(train[:,:-1], train[:,-1])\n",
        "      predictions = knn_bo.predict(test[:,:-1]) \n",
        "      score = accuracy_score(test[:,-1], predictions) \n",
        "      bo_scores.append(score)\n",
        "      b,e,ve,v = error_y_bias(predictions,test[:,-1])\n",
        "  \n",
        "  print('****************')\n",
        "  print('Bootstrap Cross validation con ',n_iterations,' iteraciones')\n",
        "  print('  Ejecutando KNN con ',n_neighbors,' neighbors y se obtuvo:')\n",
        "  print(\"    - %0.2f bias con varianza de %0.2f\" % (b, v))\n",
        "  print(\"    - %0.2f error con varianza de %0.2f\" % (e, ve))\n",
        "  print(\"    - %0.2f accuracy score con desviación estándar de %0.2f\" % (np.mean(bo_scores), np.std(bo_scores)))\n",
        "  print('****************')\n"
      ],
      "execution_count": 56,
      "outputs": []
    },
    {
      "cell_type": "code",
      "metadata": {
        "colab": {
          "base_uri": "https://localhost:8080/"
        },
        "id": "RurImusAx6BS",
        "outputId": "f4a9a84f-6f92-47be-fba9-0ab453708547"
      },
      "source": [
        "bootstrap(n_neighbors=2, n_iterations=4)\n",
        "bootstrap(n_neighbors=3, n_iterations=4)"
      ],
      "execution_count": 74,
      "outputs": [
        {
          "output_type": "stream",
          "name": "stdout",
          "text": [
            "****************\n",
            "Bootstrap Cross validation con  4  iteraciones\n",
            "  Ejecutando KNN con  2  neighbors y se obtuvo:\n",
            "    - 0.36 bias con varianza de 4.18\n",
            "    - 0.31 error con varianza de 0.46\n",
            "    - 0.70 accuracy score con desviación estándar de 0.02\n",
            "****************\n",
            "****************\n",
            "Bootstrap Cross validation con  4  iteraciones\n",
            "  Ejecutando KNN con  3  neighbors y se obtuvo:\n",
            "    - 0.22 bias con varianza de 4.41\n",
            "    - 0.36 error con varianza de 0.48\n",
            "    - 0.63 accuracy score con desviación estándar de 0.02\n",
            "****************\n"
          ]
        }
      ]
    },
    {
      "cell_type": "markdown",
      "metadata": {
        "id": "nQy-XBDF9Of4"
      },
      "source": [
        "## 5) Análisis de resultados para KNN con 3 y 2 neighbors"
      ]
    },
    {
      "cell_type": "markdown",
      "metadata": {
        "id": "qXjNY584Gii4"
      },
      "source": [
        "###*Ejecutando KNN con 3 neighbors y cálculo de bias, error, varianza y accuracy* "
      ]
    },
    {
      "cell_type": "code",
      "metadata": {
        "id": "ApC4lEqKDuj_"
      },
      "source": [
        "knn = KNN_model(X_train, np.ravel(y_train),n_neighbors=3)\n",
        "y_pred = knn.predict(X_test)"
      ],
      "execution_count": 94,
      "outputs": []
    },
    {
      "cell_type": "code",
      "metadata": {
        "colab": {
          "base_uri": "https://localhost:8080/"
        },
        "id": "AooM0A9JGo9I",
        "outputId": "11683439-d15c-4b01-e425-2b2e7042747b"
      },
      "source": [
        "print(\"El bias calculado es %0.2f\" %accuracy_score(y_test, y_pred))"
      ],
      "execution_count": 95,
      "outputs": [
        {
          "output_type": "stream",
          "name": "stdout",
          "text": [
            "El bias calculado es 0.70\n"
          ]
        }
      ]
    },
    {
      "cell_type": "code",
      "metadata": {
        "colab": {
          "base_uri": "https://localhost:8080/"
        },
        "id": "ZmHY2fC3KRIn",
        "outputId": "1f59b878-93cb-409e-b606-5ebb946b0b49"
      },
      "source": [
        "b,e,ve,v = error_y_bias(y_pred,y_test)\n",
        "print(\"El bias calculado es %0.2f\" %b)\n",
        "print(\"El error calculado es %0.2f\" %e)\n",
        "print(\"La varianza del error es %0.2f\" %ve)\n",
        "print(\"La varianza es %0.2f\" %v)"
      ],
      "execution_count": 96,
      "outputs": [
        {
          "output_type": "stream",
          "name": "stdout",
          "text": [
            "El bias calculado es 0.49\n",
            "El error calculado es 0.30\n",
            "La varianza del error es 0.46\n",
            "La varianza es 4.77\n"
          ]
        }
      ]
    },
    {
      "cell_type": "markdown",
      "metadata": {
        "id": "Kffp_IQq4yrA"
      },
      "source": [
        "###*Ejecutando KNN con 2 neighbors y cálculo de bias, error, varianza y accuracy* \n",
        "\n",
        "*   Elemento de la lista\n",
        "*   Elemento de la lista\n",
        "\n"
      ]
    },
    {
      "cell_type": "code",
      "metadata": {
        "id": "HfwSFSUgCXKU"
      },
      "source": [
        "knn = KNN_model(X_train, np.ravel(y_train),n_neighbors=2)\n",
        "y_pred = knn.predict(X_test)\n"
      ],
      "execution_count": 97,
      "outputs": []
    },
    {
      "cell_type": "code",
      "metadata": {
        "colab": {
          "base_uri": "https://localhost:8080/"
        },
        "id": "bbFITQ63VqWu",
        "outputId": "d48a0cf3-daec-490b-9ff4-803faa1405f3"
      },
      "source": [
        "print(\"El bias calculado es %0.2f\" %accuracy_score(y_test, y_pred))"
      ],
      "execution_count": 98,
      "outputs": [
        {
          "output_type": "stream",
          "name": "stdout",
          "text": [
            "El bias calculado es 0.79\n"
          ]
        }
      ]
    },
    {
      "cell_type": "code",
      "metadata": {
        "colab": {
          "base_uri": "https://localhost:8080/"
        },
        "id": "zG8Mx1NSGgFc",
        "outputId": "5b9dec48-7f55-4f70-c7a3-ba0e1bc76449"
      },
      "source": [
        "b,e,ve,v = error_y_bias(y_pred,y_test)\n",
        "print(\"El bias calculado es %0.2f\" %b)\n",
        "print(\"El error calculado es %0.2f\" %e)\n",
        "print(\"La varianza del error es %0.2f\" %ve)\n",
        "print(\"La varianza es %0.2f\" %v)\n"
      ],
      "execution_count": 99,
      "outputs": [
        {
          "output_type": "stream",
          "name": "stdout",
          "text": [
            "El bias calculado es 0.69\n",
            "El error calculado es 0.21\n",
            "La varianza del error es 0.41\n",
            "La varianza es 4.76\n"
          ]
        }
      ]
    },
    {
      "cell_type": "markdown",
      "metadata": {
        "id": "7rqj8GFT5BaF"
      },
      "source": [
        "###*Matriz de confusión para KNN con 2 neighbors* "
      ]
    },
    {
      "cell_type": "code",
      "metadata": {
        "id": "fxgttoy5iW8e",
        "colab": {
          "base_uri": "https://localhost:8080/"
        },
        "outputId": "f9d8319d-7d43-4249-9d2d-e4471a858654"
      },
      "source": [
        "from sklearn.metrics import classification_report, confusion_matrix\n",
        "cm = confusion_matrix(y_test, y_pred)\n",
        "print(classification_report(y_test, y_pred))"
      ],
      "execution_count": 87,
      "outputs": [
        {
          "output_type": "stream",
          "name": "stdout",
          "text": [
            "              precision    recall  f1-score   support\n",
            "\n",
            "         0.0       0.58      1.00      0.73        29\n",
            "         1.0       1.00      1.00      1.00        16\n",
            "         2.0       0.77      0.83      0.80        36\n",
            "         3.0       0.40      0.80      0.53         5\n",
            "         4.0       0.94      0.76      0.84        42\n",
            "         5.0       0.69      0.64      0.67        14\n",
            "         6.0       1.00      0.64      0.78        55\n",
            "\n",
            "    accuracy                           0.79       197\n",
            "   macro avg       0.77      0.81      0.76       197\n",
            "weighted avg       0.85      0.79      0.79       197\n",
            "\n"
          ]
        }
      ]
    },
    {
      "cell_type": "code",
      "metadata": {
        "colab": {
          "base_uri": "https://localhost:8080/",
          "height": 567
        },
        "id": "AhJc3gSmZUEh",
        "outputId": "c952e230-bfd8-4316-d219-b93e119188b0"
      },
      "source": [
        "fig, ax= plt.subplots(figsize=(12,9))\n",
        "sns.heatmap(cm, annot=True, fmt='g', ax=ax);  \n",
        "\n",
        "ax.set_xlabel('Predicted labels');ax.set_ylabel('True labels'); \n",
        "ax.set_title('Confusion Matrix'); \n",
        "ax.xaxis.set_ticklabels(['anger', 'contempt', 'disgust', 'fear', 'happy', 'sadness', 'surprise']); \n",
        "ax.yaxis.set_ticklabels(['anger', 'contempt', 'disgust', 'fear', 'happy', 'sadness', 'surprise']);"
      ],
      "execution_count": 88,
      "outputs": [
        {
          "output_type": "display_data",
          "data": {
            "image/png": "[encoded data removed]",
            "text/plain": [
              "<Figure size 864x648 with 2 Axes>"
            ]
          },
          "metadata": {
            "needs_background": "light"
          }
        }
      ]
    }
  ]
}